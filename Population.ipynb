{
 "cells": [
  {
   "cell_type": "markdown",
   "metadata": {
    "toc": true
   },
   "source": [
    "<h1>Sumário<span class=\"tocSkip\"></span></h1>\n",
    "<div class=\"toc\"><ul class=\"toc-item\"><li><span><a href=\"#Imports-e-Funções\" data-toc-modified-id=\"Imports-e-Funções-1\"><span class=\"toc-item-num\">1&nbsp;&nbsp;</span>Imports e Funções</a></span></li><li><span><a href=\"#Download-dos-dados\" data-toc-modified-id=\"Download-dos-dados-2\"><span class=\"toc-item-num\">2&nbsp;&nbsp;</span><em>Download</em> dos dados</a></span></li><li><span><a href=\"#Lê-e-Ajusta-a-Tabela\" data-toc-modified-id=\"Lê-e-Ajusta-a-Tabela-3\"><span class=\"toc-item-num\">3&nbsp;&nbsp;</span>Lê e Ajusta a Tabela</a></span></li><li><span><a href=\"#Escreve-a-Tabela\" data-toc-modified-id=\"Escreve-a-Tabela-4\"><span class=\"toc-item-num\">4&nbsp;&nbsp;</span>Escreve a Tabela</a></span></li><li><span><a href=\"#Atualiza-Repositório-no-GitHub\" data-toc-modified-id=\"Atualiza-Repositório-no-GitHub-5\"><span class=\"toc-item-num\">5&nbsp;&nbsp;</span>Atualiza Repositório no <em>GitHub</em></a></span></li></ul></div>"
   ]
  },
  {
   "cell_type": "markdown",
   "metadata": {},
   "source": [
    "*Script* criado para organizar uma tabela com a estimativa da população de cada município do Brasil. Os dados foram obtidos com auxílio da [plataforma SIDRA](https://sidra.ibge.gov.br/pesquisa/EstimaPop/tabelas), obtendo os dados da [tabela 6579](https://sidra.ibge.gov.br/tabela/6579) e ajustando-os, elimintando cabeçalhos e rodapés etc."
   ]
  },
  {
   "cell_type": "markdown",
   "metadata": {},
   "source": [
    "# Imports e Funções\n",
    "\n",
    "Inicialmente faz-se necessário importar os pacotes utilizados, bem como definir as funções que serão usadas posterirmente."
   ]
  },
  {
   "cell_type": "code",
   "execution_count": null,
   "metadata": {},
   "outputs": [],
   "source": [
    "%run '../codes/files/create_folders.py'\n",
    "\n",
    "import os\n",
    "import pandas as pd\n",
    "\n",
    "create_folders('')"
   ]
  },
  {
   "cell_type": "markdown",
   "metadata": {},
   "source": [
    "# *Download* dos dados\n",
    "\n",
    "Deve-se definir a *url* que se localizam os dados, bem como o nome do arquivo a ser baixado. A *url* foi definida por meio do [modo de consulta do SIDRA](https://sidra.ibge.gov.br/tabela/6579), onde se definiu o *layout* da tabela e posterirmente acessando a função *Links de Compartilhar*.\n",
    "\n",
    "O *layout* foi definido selecionando-se todos os anos disponíveis e os níveis territoriais foi selecionado apenas o nivel mais desagregado, que possibilita agregar os dados conforme o usuário quiser, ou seja, municípios.\n",
    "\n",
    "Inicialmente está se trabalhando com o download de arquivos **_.csv_**, porém pretende-se futuramente tentar acessar os dados pela API do SIDRA (https://apisidra.ibge.gov.br/values/t/6579/n6/all/v/all/p/all)\n",
    "\n",
    "![optionSIDRA](https://i.imgur.com/eCVDpEm.png) <!-- .element height=\"20%\" width=\"20%\" style=\"border: 0; background: None; box-shadow: None\" -->"
   ]
  },
  {
   "cell_type": "code",
   "execution_count": null,
   "metadata": {},
   "outputs": [],
   "source": [
    "filename = 'tab_EstimativaPopulação.csv'\n",
    "urls = [('https://sidra.ibge.gov.br/geratabela?format=br.csv&name=tabela6579.csv&terr=NC&rank=-&query=t/6579/n6/all/v/all/p/all/l/v,p,t',\n",
    "         filename)]"
   ]
  },
  {
   "cell_type": "code",
   "execution_count": null,
   "metadata": {},
   "outputs": [],
   "source": [
    "%run '../codes/files/downloads.py'\n",
    "\n",
    "download_urls(urls, 'data', GetFilenameFromURL=False)"
   ]
  },
  {
   "cell_type": "markdown",
   "metadata": {},
   "source": [
    "# Lê e Ajusta a Tabela\n",
    "\n",
    "Para edições e limpeza da tabela, os dados são lidos, aonde já se define parâmetros para pular linhas iniciais, ignorar as notas de rodapé etc."
   ]
  },
  {
   "cell_type": "code",
   "execution_count": null,
   "metadata": {},
   "outputs": [],
   "source": [
    "file = os.path.join('data', filename)\n",
    "\n",
    "%run '../codes/files/predict_encoding.py'\n",
    "\n",
    "file_encoding = predict_encoding(file)\n",
    "print(file_encoding)\n",
    "\n",
    "df = pd.read_csv(file,\n",
    "                 delimiter=';',\n",
    "                 header=1,\n",
    "                 skiprows=range(1, 3),\n",
    "                 nrows=5570,\n",
    "                 encoding=file_encoding)"
   ]
  },
  {
   "cell_type": "code",
   "execution_count": null,
   "metadata": {},
   "outputs": [],
   "source": [
    "# Ajusta o Índice\n",
    "df.rename(columns={'Cód.': 'ID_Município'}, inplace=True)\n",
    "df.rename(columns={'Município': 'Município_Orig'}, inplace=True)\n",
    "\n",
    "# Set Index\n",
    "df = df.set_index('ID_Município')\n",
    "\n",
    "# Cria/desmembra colunas\n",
    "df['Município'] = df['Município_Orig'].str.split(' \\(').str[0]\n",
    "df['Estado'] = df['Município_Orig'].str.split(' \\(').str[1]\n",
    "df['Estado'] = df['Estado'].replace('\\)', '', regex=True)\n",
    "\n",
    "# Exclui coluna\n",
    "df = df.drop(['Município_Orig'], axis=1)\n",
    "\n",
    "# Ajusta a ordem das colunas\n",
    "col = df.columns.to_list()\n",
    "col.insert(0, col.pop(col.index('Município')))\n",
    "col.insert(1, col.pop(col.index('Estado')))\n",
    "df = df.reindex(columns=col)\n",
    "\n",
    "df"
   ]
  },
  {
   "cell_type": "code",
   "execution_count": null,
   "metadata": {},
   "outputs": [],
   "source": [
    "# Lista de Colunas a serem alteradas\n",
    "list_columns = df.columns[2:]\n",
    "list_columns"
   ]
  },
  {
   "cell_type": "code",
   "execution_count": null,
   "metadata": {},
   "outputs": [],
   "source": [
    "# Função que Altera\n",
    "for i in list_columns:\n",
    "    year = str(i)\n",
    "    df[year] = pd.to_numeric(df[year], errors='coerce', downcast='float') "
   ]
  },
  {
   "cell_type": "code",
   "execution_count": null,
   "metadata": {},
   "outputs": [],
   "source": [
    "# Resultados\n",
    "print(df.dtypes)\n",
    "df.head(5)"
   ]
  },
  {
   "cell_type": "markdown",
   "metadata": {},
   "source": [
    "# Escreve a Tabela"
   ]
  },
  {
   "cell_type": "code",
   "execution_count": null,
   "metadata": {},
   "outputs": [],
   "source": [
    "def write_results(df, filename):\n",
    "    # Escreve em arquivo CSV    \n",
    "    df.to_csv(filename,\n",
    "              encoding='utf-8-sig',\n",
    "              index=True,\n",
    "              header=True,\n",
    "              sep=';',\n",
    "              decimal=',')\n",
    "    \n",
    "    return print('Tabela Salva!')"
   ]
  },
  {
   "cell_type": "code",
   "execution_count": null,
   "metadata": {},
   "outputs": [],
   "source": [
    "file = os.path.join('data', 'tab_EstimativaPopulação_Ajusted.csv')\n",
    "\n",
    "write_results(df, file)"
   ]
  },
  {
   "cell_type": "markdown",
   "metadata": {},
   "source": [
    "# Atualiza Repositório no *GitHub*"
   ]
  },
  {
   "cell_type": "code",
   "execution_count": null,
   "metadata": {},
   "outputs": [],
   "source": [
    "%run '../codes/git/update_github.py'\n",
    "\n",
    "git_full('/home/michel/Geodata/SourceCode/data_population', '.', 'Atualizando')"
   ]
  }
 ],
 "metadata": {
  "kernelspec": {
   "display_name": "Python [conda env:pablocarreira-py36] *",
   "language": "python",
   "name": "conda-env-pablocarreira-py36-py"
  },
  "language_info": {
   "codemirror_mode": {
    "name": "ipython",
    "version": 3
   },
   "file_extension": ".py",
   "mimetype": "text/x-python",
   "name": "python",
   "nbconvert_exporter": "python",
   "pygments_lexer": "ipython3",
   "version": "3.6.10"
  },
  "toc": {
   "base_numbering": 1,
   "nav_menu": {},
   "number_sections": true,
   "sideBar": true,
   "skip_h1_title": false,
   "title_cell": "Sumário",
   "title_sidebar": "Contents",
   "toc_cell": true,
   "toc_position": {},
   "toc_section_display": true,
   "toc_window_display": true
  }
 },
 "nbformat": 4,
 "nbformat_minor": 4
}
